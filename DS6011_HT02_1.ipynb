{
  "nbformat": 4,
  "nbformat_minor": 0,
  "metadata": {
    "colab": {
      "name": "DS6011_HT02_1.ipynb",
      "provenance": [],
      "include_colab_link": true
    },
    "kernelspec": {
      "name": "python3",
      "display_name": "Python 3"
    },
    "language_info": {
      "name": "python"
    }
  },
  "cells": [
    {
      "cell_type": "markdown",
      "metadata": {
        "id": "view-in-github",
        "colab_type": "text"
      },
      "source": [
        "<a href=\"https://colab.research.google.com/github/ChristianFML/HDT11-FLOYD/blob/master/DS6011_HT02_1.ipynb\" target=\"_parent\"><img src=\"https://colab.research.google.com/assets/colab-badge.svg\" alt=\"Open In Colab\"/></a>"
      ]
    },
    {
      "cell_type": "markdown",
      "metadata": {
        "id": "saaO06RMwzGH"
      },
      "source": [
        "# Hoja de Trabajo \\# 2-1 \n",
        "\n",
        "\n",
        "---\n",
        "\n",
        "\n",
        "por Josué Obregón <br>\n",
        "DS6011 - Feature Engineering <br>\n",
        "UVG Masters - Escuela de Negocios<br>\n"
      ]
    },
    {
      "cell_type": "markdown",
      "metadata": {
        "id": "w0-nImUHNxOv"
      },
      "source": [
        "## Objetivos\n",
        "\n",
        "El objetivo de esta hoja de trabajo  es presentar al estudiante diferentes técnicas de visualización de datos para ayudar a entender las características y el comportamiento de la variable objetivo en los modelos predictivos.\n",
        "\n",
        "Así mismo, las técnicas también son útiles para entender la relación de las distintas variables predictoras, entre ellas mismas y con la variable objetivo.\n",
        "\n",
        "Como objetivo adicional, también se busca que el estudiante conozca el funcionamiento de dos librerías de visualización de datos del lenguaje python: [Seaborn](https://seaborn.pydata.org/) y [Plotly express](https://plotly.com/python/plotly-express/).\n",
        "\n",
        "El análisis presentado en esta hoja de trabajo está basado en la [sección 4.2](http://www.feat.engineering/visualizations-for-numeric-data-exploring-train-ridership-data.html) del libro **Feature engineering and selection: A practical approach for predictive models**. Intentaremos generar las visualizaciones lo más fielmente posible a las presentadas en el libro.\n"
      ]
    },
    {
      "cell_type": "markdown",
      "metadata": {
        "id": "RYjZ_KEuTCTe"
      },
      "source": [
        "## Importación de librerías y carga de los datos a varios pandas [DataFrames](https://pandas.pydata.org/pandas-docs/version/1.1.5/reference/frame.html)\n",
        "\n",
        "\n",
        "Las librerías que importaremos para empezar son pandas y numpy para el manejo de los datos, y matplotlib, seaborn y plotly para la generación de visualizaciones. \n",
        "\n",
        "Los datos fueron obtenidos del [portal de datos de Chicago](https://data.cityofchicago.org/Transportation/CTA-Ridership-L-Station-Entries-Daily-Totals/5neh-572f).\n",
        "\n",
        "Los datos necesitan cierto preprocesamiento, pero el objetivo de esta hoja de trabajo no es ese, así que incluyo dos archivos extra. El primero es donde están registrados los días usados para el análisis, y el segundo son atributos creados por el autor del libro. \n",
        "\n"
      ]
    },
    {
      "cell_type": "code",
      "metadata": {
        "id": "wMpdDWhPMSS7"
      },
      "source": [
        "import pandas as pd\n",
        "import numpy as np\n",
        "import matplotlib.pyplot as plt\n",
        "import seaborn as sns\n",
        "import plotly.express as px"
      ],
      "execution_count": null,
      "outputs": []
    },
    {
      "cell_type": "code",
      "metadata": {
        "id": "bBRl7VGfALex"
      },
      "source": [
        "!mkdir data"
      ],
      "execution_count": null,
      "outputs": []
    },
    {
      "cell_type": "code",
      "metadata": {
        "id": "YR1uTokC8Wzi"
      },
      "source": [
        "import gdown\n",
        "\n",
        "urls = ['https://drive.google.com/uc?export=download&id=1GiEi6LVHBAAX4IWVA2gRH1gJZ1vLYghG', # chicago_train_data  https://drive.google.com/file/d/1GiEi6LVHBAAX4IWVA2gRH1gJZ1vLYghG/view?usp=sharing\n",
        "        'https://drive.google.com/uc?export=download&id=1LIK0YFER5ve9Wn7Uap4Zb6f5pXcAExZ-', # train_days   https://drive.google.com/file/d/1LIK0YFER5ve9Wn7Uap4Zb6f5pXcAExZ-/view?usp=sharing \n",
        "        'https://drive.google.com/uc?export=download&id=18pIOZQXBOSwT-t69icoGZgZh-kUUFMrN' # extra data chicago https://drive.google.com/file/d/18pIOZQXBOSwT-t69icoGZgZh-kUUFMrN/view?usp=sharing\n",
        "        ]\n",
        "outputs = ['chicago_train_data.csv','train_days.csv' ,'extra_data_chicago.csv']\n",
        "for url,output in zip(urls,outputs):\n",
        "  gdown.download(url, f'data/{output}', quiet=False)"
      ],
      "execution_count": null,
      "outputs": []
    },
    {
      "cell_type": "code",
      "metadata": {
        "id": "tbt7GzUNOT3O"
      },
      "source": [
        "df = pd.read_csv('data/chicago_train_data.csv', parse_dates=True, index_col=2)\n",
        "train_days = pd.read_csv('data/train_days.csv',index_col=1, parse_dates=True)\n",
        "extra_data = pd.read_csv('data/extra_data_chicago.csv',index_col=0, parse_dates=True)"
      ],
      "execution_count": null,
      "outputs": []
    },
    {
      "cell_type": "code",
      "metadata": {
        "id": "0MCGdyjEP-wp"
      },
      "source": [
        "df.head(5)"
      ],
      "execution_count": null,
      "outputs": []
    },
    {
      "cell_type": "code",
      "metadata": {
        "id": "Ijm0t723NBna"
      },
      "source": [
        "df.info()"
      ],
      "execution_count": null,
      "outputs": []
    },
    {
      "cell_type": "code",
      "metadata": {
        "id": "q2cc8VZq7MZf"
      },
      "source": [
        "df = df.sort_index()\n",
        "df.info()"
      ],
      "execution_count": null,
      "outputs": []
    },
    {
      "cell_type": "code",
      "metadata": {
        "id": "q9YGmxp0hDWS"
      },
      "source": [
        "df.loc[train_days.index]"
      ],
      "execution_count": null,
      "outputs": []
    },
    {
      "cell_type": "code",
      "metadata": {
        "id": "v7korxBsuOrx"
      },
      "source": [
        "df.index.year.unique()"
      ],
      "execution_count": null,
      "outputs": []
    },
    {
      "cell_type": "code",
      "metadata": {
        "id": "hp1tg2AqN3cm"
      },
      "source": [
        "df_cl = df[df.stationname=='Clark/Lake'][['daytype'\t,'rides']] # let's focus on Clark/Lake station\n",
        "df_cl ['rides_x1000']= df_cl.rides/1000 # transform \n",
        "df_cl['part_of_the_week']=df_cl.index.weekday.map(lambda x: 'Weekday' if x<5 else 'Weekend')"
      ],
      "execution_count": null,
      "outputs": []
    },
    {
      "cell_type": "code",
      "metadata": {
        "id": "led0mrEX8SYm"
      },
      "source": [
        "df_cl.index.duplicated().sum()"
      ],
      "execution_count": null,
      "outputs": []
    },
    {
      "cell_type": "code",
      "metadata": {
        "id": "RZv06yH98doW"
      },
      "source": [
        "df_cl = df_cl[~df_cl.index.duplicated(keep='first')] # there was one record duplicated index 3815 value '2011-07-03'\n",
        "print(df_cl.index.duplicated().sum())\n",
        "train_df_cl = df_cl.loc[train_days.index] # define our training data with train days"
      ],
      "execution_count": null,
      "outputs": []
    },
    {
      "cell_type": "markdown",
      "metadata": {
        "id": "jTon0wOu8owK"
      },
      "source": [
        "## Gráficos de cajas, Gráficos de violin, Histogramas y Gráficos de densidad\n",
        "\n"
      ]
    },
    {
      "cell_type": "code",
      "metadata": {
        "id": "huf3C69Bl8oO"
      },
      "source": [
        "sns.set_style(\"darkgrid\") # Others whitegrid, white, dark, ticks https://www.python-graph-gallery.com/104-seaborn-themes "
      ],
      "execution_count": null,
      "outputs": []
    },
    {
      "cell_type": "code",
      "metadata": {
        "id": "q3O5hTiFNKWG"
      },
      "source": [
        "fig, axs = plt.subplots(2,2, figsize=(12,8)) #create grid\n",
        "sns.boxplot(data=train_df_cl, x='rides_x1000', orient='h', ax=axs[0,0])\n",
        "sns.histplot(data=train_df_cl,x='rides_x1000', binwidth=0.7, ax=axs[0,1])\n",
        "sns.violinplot(data=train_df_cl,x='rides_x1000', ax=axs[1,0])\n",
        "sns.kdeplot(data=train_df_cl, x='rides_x1000', ax=axs[1,1])\n",
        "plt.tight_layout()"
      ],
      "execution_count": null,
      "outputs": []
    },
    {
      "cell_type": "markdown",
      "metadata": {
        "id": "XrERHOVPuyCB"
      },
      "source": [
        "### Aumentando las visualizaciones con facetas, colores y formas"
      ]
    },
    {
      "cell_type": "code",
      "metadata": {
        "id": "E2PZYiPsNUCC"
      },
      "source": [
        "g = sns.FacetGrid(train_df_cl, sharey=False, row='part_of_the_week',  hue='part_of_the_week',height=3, aspect=3)\n",
        "g.map_dataframe(sns.histplot, x='rides', log_scale=True, binwidth=0.03)"
      ],
      "execution_count": null,
      "outputs": []
    },
    {
      "cell_type": "markdown",
      "metadata": {
        "id": "MRJzBhV6wpU1"
      },
      "source": [
        "## Gráficos de dispersión\n",
        "\n"
      ]
    },
    {
      "cell_type": "code",
      "metadata": {
        "id": "AZ-dQntyPpIC"
      },
      "source": [
        "train_df_cl['two_week_lag_rides'] = train_df_cl['rides'].shift(periods=14, fill_value = 0) # We create a lagging variable of two weeks\n",
        "train_df_cl ['two_week_lag_rides_x1000']= train_df_cl['two_week_lag_rides']/1000"
      ],
      "execution_count": null,
      "outputs": []
    },
    {
      "cell_type": "code",
      "metadata": {
        "id": "UQSwWydwzyT3"
      },
      "source": [
        "train_df_cl.head(16)"
      ],
      "execution_count": null,
      "outputs": []
    },
    {
      "cell_type": "code",
      "metadata": {
        "id": "ySTE_InvP8hW"
      },
      "source": [
        "plt.figure(figsize=(6,6)) \n",
        "sns.scatterplot(data=train_df_cl, x='two_week_lag_rides_x1000', y='rides_x1000', hue='part_of_the_week')"
      ],
      "execution_count": null,
      "outputs": []
    },
    {
      "cell_type": "markdown",
      "metadata": {
        "id": "5SxlZZyh1-Gu"
      },
      "source": [
        "## Mapas de calor"
      ]
    },
    {
      "cell_type": "markdown",
      "metadata": {
        "id": "Yc1oOXjh3TBA"
      },
      "source": [
        "Creamos una variable indicador para valores entre semana que sean menores a 10,000 pasajeros"
      ]
    },
    {
      "cell_type": "code",
      "metadata": {
        "id": "CO2a1hHqYd_A"
      },
      "source": [
        "train_df_cl['less_than_10000']= train_df_cl.rides<=10000\n",
        "train_df_cl['less_than_10000'] = train_df_cl['less_than_10000'].astype(int) # to transforme it to int, i.e. True=1 and False=0\n",
        "train_df_cl['month_name'] = train_df_cl.index.month_name() \n",
        "train_df_cl['month'] = train_df_cl.index.month\n",
        "train_df_cl['day'] = train_df_cl.index.day\n",
        "train_df_cl['month_day']= train_df_cl['month'].apply('{:0>2d}'.format) +'-' + train_df_cl['day'].apply('{:0>2d}'.format) # To create a format mm-dd\n",
        "train_df_cl['year'] = train_df_cl.index.year"
      ],
      "execution_count": null,
      "outputs": []
    },
    {
      "cell_type": "code",
      "metadata": {
        "id": "dgLq2UsJZQPo"
      },
      "source": [
        "train_df_cl['2001-02'].head()"
      ],
      "execution_count": null,
      "outputs": []
    },
    {
      "cell_type": "markdown",
      "metadata": {
        "id": "EOz7DCiU6Ai2"
      },
      "source": [
        "Para crear la tabla fuente de nuestro mapa de calor, utilizamos la [función de tabla pivote de Pandas](https://pandas.pydata.org/docs/reference/api/pandas.pivot_table.html)."
      ]
    },
    {
      "cell_type": "code",
      "metadata": {
        "id": "Mc0aOImIfQmv"
      },
      "source": [
        "heat_map_data = train_df_cl[train_df_cl.part_of_the_week=='Weekday'].pivot_table(index='month_day', columns='year', values='less_than_10000', fill_value=0) "
      ],
      "execution_count": null,
      "outputs": []
    },
    {
      "cell_type": "code",
      "metadata": {
        "id": "ErF1X08R5dqG"
      },
      "source": [
        "heat_map_data.head(10)"
      ],
      "execution_count": null,
      "outputs": []
    },
    {
      "cell_type": "code",
      "metadata": {
        "id": "9NqEjlzOjb6Y"
      },
      "source": [
        "plt.figure(figsize=(10,10))\n",
        "ax_hm = sns.heatmap(data=heat_map_data, cmap=['white','red'], cbar=False, yticklabels=15)\n",
        "ax_hm.invert_yaxis()"
      ],
      "execution_count": null,
      "outputs": []
    },
    {
      "cell_type": "markdown",
      "metadata": {
        "id": "EqyejjF8-ZkK"
      },
      "source": [
        "Ahora que conocemos que el efecto de los días festivos en el conjunto de datos, podemos remover esos días.\n",
        "\n",
        "Para eso utilizamos el dataset de **extra\\_data** que cargamos al principio."
      ]
    },
    {
      "cell_type": "code",
      "metadata": {
        "id": "tepVpcNPnR34"
      },
      "source": [
        "common_holidays = ['USNewYearsDay', 'Jan02_Mon_Fri', 'USMLKingsBirthday', \n",
        "    'USPresidentsDay', 'USMemorialDay', 'USIndependenceDay', \n",
        "    'Jul03_Mon_Fri', 'Jul05_Mon_Fri', 'USLaborDay', 'USThanksgivingDay', \n",
        "    'Day_after_Thx', 'ChristmasEve', 'USChristmasDay', 'Dec26_wkday', \n",
        "    'Dec31_Mon_Fri']"
      ],
      "execution_count": null,
      "outputs": []
    },
    {
      "cell_type": "code",
      "metadata": {
        "id": "fpWlRBzGpP3u"
      },
      "source": [
        "dates_with_holiday = (extra_data[common_holidays]==1).any(axis=1)"
      ],
      "execution_count": null,
      "outputs": []
    },
    {
      "cell_type": "code",
      "metadata": {
        "id": "S8u-x0BAtRdD"
      },
      "source": [
        "train_df_cl['holiday']=dates_with_holiday"
      ],
      "execution_count": null,
      "outputs": []
    },
    {
      "cell_type": "code",
      "metadata": {
        "id": "NicHzNkf4LiL"
      },
      "source": [
        "train_df_cl['two_weeks_lag_holiday'] = train_df_cl['holiday'].shift(periods=14, fill_value = False)"
      ],
      "execution_count": null,
      "outputs": []
    },
    {
      "cell_type": "markdown",
      "metadata": {
        "id": "4Egk-8g5_eob"
      },
      "source": [
        "Filtramos el conjunto de datos con dias que no sean festivos y que no tengan un dia festivo con retardo de dos semanas."
      ]
    },
    {
      "cell_type": "code",
      "metadata": {
        "id": "WpoGfeNP14U7"
      },
      "source": [
        "train_df_cl_no_holiday= train_df_cl[~train_df_cl.holiday & ~train_df_cl.two_weeks_lag_holiday]"
      ],
      "execution_count": null,
      "outputs": []
    },
    {
      "cell_type": "code",
      "metadata": {
        "id": "iBrFjBmTkuOm"
      },
      "source": [
        "plt.figure(figsize=(6,6))\n",
        "sns.scatterplot(x=train_df_cl_no_holiday.two_week_lag_rides_x1000, y=train_df_cl_no_holiday.rides_x1000, hue=train_df_cl_no_holiday.part_of_the_week)"
      ],
      "execution_count": null,
      "outputs": []
    },
    {
      "cell_type": "markdown",
      "metadata": {
        "id": "NfXOx5Zn_1yZ"
      },
      "source": [
        "## Gráficos de matriz de correlación"
      ]
    },
    {
      "cell_type": "markdown",
      "metadata": {
        "id": "0SdKbeDiFxFw"
      },
      "source": [
        "Agregamos las características que creamos para nuestro subconjunto de datos conteniendo solo la estacion Clark/Lake.\n",
        "\n",
        "Despues de esto, tomamos solo los registros correspondientes al año 2016"
      ]
    },
    {
      "cell_type": "code",
      "metadata": {
        "id": "SuFWG3hZ-WG8"
      },
      "source": [
        "df['part_of_the_week']=df.index.weekday.map(lambda x: 'Weekday' if x<5 else 'Weekend')\n",
        "df['holiday'] = False\n",
        "df['two_week_lag_rides']=0\n",
        "for station in df.stationname.unique():\n",
        "  df.loc[df.stationname==station,'two_week_lag_rides'] = df[df.stationname==station]['rides'].shift(periods=14, fill_value = 0)\n",
        "for index, row in dates_with_holiday.iteritems():\n",
        "  if row:        \n",
        "    df.loc[index, 'holiday']=True\n",
        "\n",
        "\n",
        "all_2016 = df.loc[train_days.index]['2016'].copy()"
      ],
      "execution_count": null,
      "outputs": []
    },
    {
      "cell_type": "code",
      "metadata": {
        "id": "Dy0qs8Kyhbit"
      },
      "source": [
        "all_2016.head()"
      ],
      "execution_count": null,
      "outputs": []
    },
    {
      "cell_type": "markdown",
      "metadata": {
        "id": "3Ga5ujOiPydd"
      },
      "source": [
        "Tomamos los datos solo de días entre semana y que no son días festivos"
      ]
    },
    {
      "cell_type": "code",
      "metadata": {
        "id": "pDkL3vtG_ot4"
      },
      "source": [
        "clustermap_data = all_2016[(all_2016.part_of_the_week=='Weekday')&(~all_2016.holiday)][['stationname','two_week_lag_rides']]"
      ],
      "execution_count": null,
      "outputs": []
    },
    {
      "cell_type": "code",
      "metadata": {
        "id": "RufpfDN2Fjy0"
      },
      "source": [
        "clustermap_data.head()"
      ],
      "execution_count": null,
      "outputs": []
    },
    {
      "cell_type": "markdown",
      "metadata": {
        "id": "PRm20Fg8P7Fz"
      },
      "source": [
        "Creamos la tabla pivote donde las filas son los días del año 2016, y las columnas son las estaciones. Cada celda en el conjunto de datos representa la cantidad de pasajeros para una estación y día específicos."
      ]
    },
    {
      "cell_type": "code",
      "metadata": {
        "id": "ORukbvUcOSvt"
      },
      "source": [
        "clustermap_data.pivot(columns='stationname', values='two_week_lag_rides')"
      ],
      "execution_count": null,
      "outputs": []
    },
    {
      "cell_type": "markdown",
      "metadata": {
        "id": "fZa_Bo8JQQwZ"
      },
      "source": [
        "Creamos la matriz de correlación, y luego generamos la gráfica. La cual también incluye una función de clusterización para las estaciones. Es decir, las estaciones con correlación positiva mayor se encuentran contiguas y las estaciones con correlación negativa mayor se encuentran alejadas. Esto es representado con un dendograma en los ejes de la gráfica."
      ]
    },
    {
      "cell_type": "code",
      "metadata": {
        "id": "t4w3pKU7JXIY"
      },
      "source": [
        "corr_matrix = clustermap_data.pivot(columns='stationname', values='two_week_lag_rides').corr()"
      ],
      "execution_count": null,
      "outputs": []
    },
    {
      "cell_type": "code",
      "metadata": {
        "id": "ocI8O7lXKZN4"
      },
      "source": [
        "corr_matrix.loc['O\\'Hare Airport','UIC-Halsted']"
      ],
      "execution_count": null,
      "outputs": []
    },
    {
      "cell_type": "code",
      "metadata": {
        "id": "z-8mzizFSifJ"
      },
      "source": [
        "corr_matrix.loc['Harlem-Lake','Quincy/Wells']"
      ],
      "execution_count": null,
      "outputs": []
    },
    {
      "cell_type": "code",
      "metadata": {
        "id": "xlZtoLtLBnL0"
      },
      "source": [
        "clustermap = sns.clustermap(corr_matrix, cmap='RdBu_r', vmin=-1, vmax=1, figsize=(10 ,10))\n"
      ],
      "execution_count": null,
      "outputs": []
    },
    {
      "cell_type": "markdown",
      "metadata": {
        "id": "FhqsgUVbTvlP"
      },
      "source": [
        "## Gráficos de líneas"
      ]
    },
    {
      "cell_type": "code",
      "metadata": {
        "id": "ZDUrqLUvgeBk"
      },
      "source": [
        "from scipy.stats.mstats import gmean"
      ],
      "execution_count": null,
      "outputs": []
    },
    {
      "cell_type": "code",
      "metadata": {
        "id": "EmogmsnqEjXM"
      },
      "source": [
        "line_plot_data_gmean = train_df_cl.groupby([pd.Grouper(freq='M'),'part_of_the_week']).agg({'rides_x1000':gmean, 'month_name':max, 'year':max}).reset_index()\n",
        "line_plot_data_gmean.set_index('date', inplace=True)\n",
        "line_plot_data_mean = train_df_cl.groupby([pd.Grouper(freq='M'),'part_of_the_week']).agg({'rides_x1000':'mean', 'month_name':max, 'year':max}).reset_index()\n",
        "line_plot_data_mean.set_index('date', inplace=True)"
      ],
      "execution_count": null,
      "outputs": []
    },
    {
      "cell_type": "code",
      "metadata": {
        "id": "qKfVePtt6BHZ"
      },
      "source": [
        "line_plot_data_gmean.head()"
      ],
      "execution_count": null,
      "outputs": []
    },
    {
      "cell_type": "code",
      "metadata": {
        "id": "wPNiCuUGGK-8"
      },
      "source": [
        "gline = sns.FacetGrid(line_plot_data_gmean, sharex=False, col='part_of_the_week', hue='year',height=6, aspect=2, palette='gist_heat_r')\n",
        "gline.map_dataframe(sns.lineplot, x='month_name', y='rides_x1000', legend='full')\n",
        "gline.axes[0,1].legend()\n",
        "gline.set_xticklabels(rotation=30)"
      ],
      "execution_count": null,
      "outputs": []
    },
    {
      "cell_type": "code",
      "metadata": {
        "id": "cPIQv0ieGLpU"
      },
      "source": [
        "gline = sns.FacetGrid(line_plot_data_mean, sharex=False, col='part_of_the_week', hue='year',height=6, aspect=2, palette='gist_heat_r')\n",
        "gline.map_dataframe(sns.lineplot, x='month_name', y='rides_x1000', legend='full')\n",
        "gline.axes[0,1].legend()"
      ],
      "execution_count": null,
      "outputs": []
    },
    {
      "cell_type": "code",
      "metadata": {
        "id": "WSlOC_xqjeW_"
      },
      "source": [],
      "execution_count": null,
      "outputs": []
    },
    {
      "cell_type": "code",
      "metadata": {
        "id": "aXHSqjlKpa9A"
      },
      "source": [
        "fig = px.line(line_plot_data_gmean, x='month_name', y='rides_x1000', facet_col='part_of_the_week', color='year', color_discrete_sequence=px.colors.qualitative.Alphabet)\n",
        "fig.update_xaxes(tickangle=-45)\n",
        "fig.show()"
      ],
      "execution_count": null,
      "outputs": []
    },
    {
      "cell_type": "markdown",
      "metadata": {
        "id": "Fnp_hYMuZolL"
      },
      "source": [
        "Los precios promedio por semana en Chicago se han registrado. Cargamos el archivo y generemos un gráfico de líneas para observar si hay alguna relación con el número de pasajeros."
      ]
    },
    {
      "cell_type": "code",
      "metadata": {
        "id": "5MY6FPXKqBXY"
      },
      "source": [
        "gas_price_df = pd.read_csv('/content/drive/MyDrive/UVG-DS6011/session_02/data/Chicago_gas_prices.csv',index_col=0, parse_dates=True)"
      ],
      "execution_count": null,
      "outputs": []
    },
    {
      "cell_type": "code",
      "metadata": {
        "id": "bfTQwUfsv9wI"
      },
      "source": [
        "gas_price_df = gas_price_df.sort_index()"
      ],
      "execution_count": null,
      "outputs": []
    },
    {
      "cell_type": "code",
      "metadata": {
        "id": "sVPd_m9ZzpUE"
      },
      "source": [
        "gas_price_df.head()"
      ],
      "execution_count": null,
      "outputs": []
    },
    {
      "cell_type": "code",
      "metadata": {
        "id": "dNT0RDqsz1fg"
      },
      "source": [
        "gas_price_df['month_name'] = gas_price_df.index.month_name() \n",
        "gas_price_df['year'] = gas_price_df.index.year \n",
        "gas_price_df['part_of_the_week']=gas_price_df.index.weekday.map(lambda x: 'Weekday' if x<5 else 'Weekend')"
      ],
      "execution_count": null,
      "outputs": []
    },
    {
      "cell_type": "code",
      "metadata": {
        "id": "JnpvZXlP0XOa"
      },
      "source": [
        "gas_price_df.head()"
      ],
      "execution_count": null,
      "outputs": []
    },
    {
      "cell_type": "code",
      "metadata": {
        "id": "ol4Hhwyj0jN8"
      },
      "source": [
        "line_plot_gas = gas_price_df['2001-01':'2016-08'].groupby(pd.Grouper(freq='M')).agg({'gas_price':'mean', 'month_name':max, 'year':max}).reset_index()\n",
        "line_plot_gas.set_index('date', inplace=True)"
      ],
      "execution_count": null,
      "outputs": []
    },
    {
      "cell_type": "code",
      "metadata": {
        "id": "XAvAWgD39KxF"
      },
      "source": [
        "line_plot_gas"
      ],
      "execution_count": null,
      "outputs": []
    },
    {
      "cell_type": "code",
      "metadata": {
        "id": "VbyxzOr303lz"
      },
      "source": [
        "fig = px.line(line_plot_gas, x='month_name', y='gas_price', color='year', color_discrete_sequence=px.colors.qualitative.Alphabet)\n",
        "fig.show()"
      ],
      "execution_count": null,
      "outputs": []
    },
    {
      "cell_type": "markdown",
      "metadata": {
        "id": "M9bRIASOZ77Y"
      },
      "source": [
        "Ahora veamos si hay alguna relación entre los precios promedio de la gasolina y el número de pasajeros. \n",
        "\n",
        "Para esto calculamos el promedio mensual de los precios de la gasolina con un retardo de 2 semanas y lo graficamos en contra de la media geométrica de el número de pasajeros en la estación de Clark/Lake"
      ]
    },
    {
      "cell_type": "code",
      "metadata": {
        "id": "NKQW2t2iAeTX"
      },
      "source": [
        "gas_price_df['two_week_lag_gas_price'] = gas_price_df.gas_price.shift(periods=14,freq='d')\n",
        "gas_price_df['two_week_lag_gas_price'] = gas_price_df['two_week_lag_gas_price'].fillna(0)"
      ],
      "execution_count": null,
      "outputs": []
    },
    {
      "cell_type": "code",
      "metadata": {
        "id": "NE1Odq_cBBbJ"
      },
      "source": [
        "gas_price_df.head()"
      ],
      "execution_count": null,
      "outputs": []
    },
    {
      "cell_type": "code",
      "metadata": {
        "id": "lCsIMrfnBfvx"
      },
      "source": [
        "line_plot_gas_lagged = gas_price_df['2001-01-01':'2016-08-31'].groupby(pd.Grouper(freq='M')).agg({'gas_price':'mean', 'month_name':max, 'year':max}).reset_index()\n",
        "line_plot_gas_lagged.set_index('date', inplace=True)"
      ],
      "execution_count": null,
      "outputs": []
    },
    {
      "cell_type": "code",
      "metadata": {
        "id": "Khd6WZkmFLLZ"
      },
      "source": [
        "line_plot_gas_lagged.head()"
      ],
      "execution_count": null,
      "outputs": []
    },
    {
      "cell_type": "code",
      "metadata": {
        "id": "PTEnFaEpCDjo"
      },
      "source": [
        "line_plot_data_gmean.loc[line_plot_data_gmean.part_of_the_week=='Weekday', 'gas_price'] = line_plot_gas_lagged\n",
        "line_plot_data_gmean.loc[line_plot_data_gmean.part_of_the_week=='Weekend', 'gas_price'] = line_plot_gas_lagged"
      ],
      "execution_count": null,
      "outputs": []
    },
    {
      "cell_type": "code",
      "metadata": {
        "id": "Qp-0uj-4HYJx"
      },
      "source": [
        "line_plot_data_gmean.head()"
      ],
      "execution_count": null,
      "outputs": []
    },
    {
      "cell_type": "code",
      "metadata": {
        "id": "mkg63CcVJ3aJ"
      },
      "source": [
        "line_plot_data_gmean.year = line_plot_data_gmean.year.astype(str) # we make it string so it is considered categorical variable"
      ],
      "execution_count": null,
      "outputs": []
    },
    {
      "cell_type": "code",
      "metadata": {
        "id": "CpOSgKXOCSJZ"
      },
      "source": [
        "fig = px.scatter(line_plot_data_gmean, x='gas_price', y='rides_x1000', color='year', facet_col='part_of_the_week', color_discrete_sequence=px.colors.qualitative.Alphabet) #, trendline='ols')\n",
        "fig.show()"
      ],
      "execution_count": null,
      "outputs": []
    },
    {
      "cell_type": "markdown",
      "metadata": {
        "id": "_lkgTqkHIBk7"
      },
      "source": [
        "# PCA"
      ]
    },
    {
      "cell_type": "code",
      "metadata": {
        "id": "_mGDaCXNPhUl"
      },
      "source": [
        "lag_14_data = pd.read_csv('/content/drive/MyDrive/UVG-DS6011/session_02/data/lag_14_data.csv', index_col=0)"
      ],
      "execution_count": null,
      "outputs": []
    },
    {
      "cell_type": "code",
      "metadata": {
        "id": "p_jyeHokPlle"
      },
      "source": [
        "lag_14_data.head()"
      ],
      "execution_count": null,
      "outputs": []
    },
    {
      "cell_type": "code",
      "metadata": {
        "id": "rha2Pp39Pm3h"
      },
      "source": [
        "from sklearn.decomposition import PCA"
      ],
      "execution_count": null,
      "outputs": []
    },
    {
      "cell_type": "code",
      "metadata": {
        "id": "Vlhd6MG5QAtd"
      },
      "source": [
        "pca = PCA()\n",
        "pca.fit(lag_14_data)"
      ],
      "execution_count": null,
      "outputs": []
    },
    {
      "cell_type": "code",
      "metadata": {
        "id": "nMenjbwcd4qc"
      },
      "source": [
        "print(pca.n_components_)\n",
        "print(pca.components_.shape) #eigenvectors"
      ],
      "execution_count": null,
      "outputs": []
    },
    {
      "cell_type": "code",
      "metadata": {
        "id": "iUaal13Qd9Ic"
      },
      "source": [
        "pca.singular_values_ #eigenvalues"
      ],
      "execution_count": null,
      "outputs": []
    },
    {
      "cell_type": "code",
      "metadata": {
        "id": "miFvCIQzS6-y"
      },
      "source": [
        "projected_lag_14 = pca.transform(lag_14_data)\n",
        "projected_lag_14 = projected_lag_14*-1 # just for matching the book's result https://stackoverflow.com/questions/44765682/in-sklearn-decomposition-pca-why-are-components-negative"
      ],
      "execution_count": null,
      "outputs": []
    },
    {
      "cell_type": "code",
      "metadata": {
        "id": "dunyjOD8QR5e"
      },
      "source": [
        "len(pca.components_)"
      ],
      "execution_count": null,
      "outputs": []
    },
    {
      "cell_type": "code",
      "metadata": {
        "id": "HDO-qtpMSM49"
      },
      "source": [
        "variance_ration_cumsum = np.cumsum(np.pad(pca.explained_variance_ratio_, (1, 0), \"constant\"))"
      ],
      "execution_count": null,
      "outputs": []
    },
    {
      "cell_type": "code",
      "metadata": {
        "id": "E4WMqOqOQiK5"
      },
      "source": [
        "fig =px.line(x=range(50), y=variance_ration_cumsum[:50], width=500, height=500)\n",
        "fig.update_yaxes(range=[-0.02, 1.02])\n",
        "fig.update_xaxes(range=[-2, 53])"
      ],
      "execution_count": null,
      "outputs": []
    },
    {
      "cell_type": "code",
      "metadata": {
        "id": "X2-FJqzBQ3ah"
      },
      "source": [
        "fig =px.scatter(x=projected_lag_14[:,0], y = projected_lag_14[:,1], color_discrete_sequence=['black'], width=500, height=500, opacity=0.3)\n",
        "fig.update_yaxes(range=[-50, 45])\n",
        "fig.update_xaxes(range=[-50, 45])\n",
        "fig.show()"
      ],
      "execution_count": null,
      "outputs": []
    },
    {
      "cell_type": "code",
      "metadata": {
        "id": "6BS5ePRsRuhF"
      },
      "source": [
        "projected_df = pd.DataFrame(projected_lag_14[:, :2], columns=['Component1','Component2'])"
      ],
      "execution_count": null,
      "outputs": []
    },
    {
      "cell_type": "code",
      "metadata": {
        "id": "_qML-sZyS3g2"
      },
      "source": [
        "projected_df.index = train_df_cl.index\n",
        "projected_df['day'] = projected_df.index.day_name()\n",
        "projected_df['year'] = projected_df.index.year"
      ],
      "execution_count": null,
      "outputs": []
    },
    {
      "cell_type": "code",
      "metadata": {
        "id": "OpxoGtGzdeqQ"
      },
      "source": [
        "fig = px.violin(projected_df,x='day',y='Component1',width=1000, height=400)\n",
        "fig.layout.template = 'plotly_white' #  different template styles https://plotly.com/python/templates/ \n",
        "fig.show()"
      ],
      "execution_count": null,
      "outputs": []
    },
    {
      "cell_type": "code",
      "metadata": {
        "id": "YCyTRF2Dkk31"
      },
      "source": [
        "fig = px.violin(projected_df,x='year',y='Component2',width=1000, height=400)\n",
        "fig.layout.template = 'plotly_dark' \n",
        "fig.show()"
      ],
      "execution_count": null,
      "outputs": []
    },
    {
      "cell_type": "code",
      "metadata": {
        "id": "j4hRCD38lCJV"
      },
      "source": [],
      "execution_count": null,
      "outputs": []
    },
    {
      "cell_type": "code",
      "metadata": {
        "id": "kk3gp6o0rYck"
      },
      "source": [],
      "execution_count": null,
      "outputs": []
    }
  ]
}